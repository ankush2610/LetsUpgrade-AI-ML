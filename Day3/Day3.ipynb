{
 "cells": [
  {
   "cell_type": "markdown",
   "metadata": {},
   "source": [
    "# Question 1 :\n",
    "Write a program to subtract two complex numbers in Python."
   ]
  },
  {
   "cell_type": "code",
   "execution_count": 2,
   "metadata": {},
   "outputs": [
    {
     "name": "stdout",
     "output_type": "stream",
     "text": [
      "(2+10j)\n"
     ]
    }
   ],
   "source": [
    "a= 5+8j\n",
    "b= 3-2j\n",
    "c=a-b\n",
    "print(c)"
   ]
  },
  {
   "cell_type": "markdown",
   "metadata": {},
   "source": [
    "# Question 2 :\n",
    "Write a program to find the fourth root of a number."
   ]
  },
  {
   "cell_type": "code",
   "execution_count": 4,
   "metadata": {},
   "outputs": [
    {
     "data": {
      "text/plain": [
       "2.0"
      ]
     },
     "execution_count": 4,
     "metadata": {},
     "output_type": "execute_result"
    }
   ],
   "source": [
    "a=16\n",
    "root=a**(1/4)\n",
    "root"
   ]
  },
  {
   "cell_type": "markdown",
   "metadata": {},
   "source": [
    "# Question 3:\n",
    "Write a program to swap two numbers in Python with the help of a temporary variable."
   ]
  },
  {
   "cell_type": "code",
   "execution_count": 8,
   "metadata": {},
   "outputs": [
    {
     "name": "stdout",
     "output_type": "stream",
     "text": [
      "****  Original Values ****\n",
      "a = 4\n",
      "b = 2\n",
      "**** After Swaping ****\n",
      "a = 2\n",
      "b = 4\n"
     ]
    }
   ],
   "source": [
    "a=4\n",
    "b=2\n",
    "print(\"****  Original Values ****\")\n",
    "print(\"a =\",a)\n",
    "print(\"b =\",b)\n",
    "temp=a\n",
    "a=b\n",
    "b=temp\n",
    "\n",
    "print(\"**** After Swaping ****\")\n",
    "print(\"a =\",a)\n",
    "print(\"b =\",b)"
   ]
  },
  {
   "cell_type": "markdown",
   "metadata": {},
   "source": [
    "# Question 5:\n",
    "Write a program to convert fahrenheit to kelvin and celsius both."
   ]
  },
  {
   "cell_type": "code",
   "execution_count": 14,
   "metadata": {},
   "outputs": [
    {
     "name": "stdout",
     "output_type": "stream",
     "text": [
      "Temperature in Celsius:  10.0  C\n",
      "Temperature in Kelvin:  283.0  K\n"
     ]
    }
   ],
   "source": [
    "F = 50\n",
    "celsius =(F - 32)*(5/9)\n",
    "print(\"Temperature in Celsius: \",celsius,\" C\")\n",
    "kelvin = celsius + 273.15\n",
    "print(\"Temperature in Kelvin: \",kelvin, \" K\")"
   ]
  },
  {
   "cell_type": "markdown",
   "metadata": {},
   "source": [
    "# Question 6:\n",
    "Write a program to demonstrate all the available data types in Python. Hint: Use type() function."
   ]
  },
  {
   "cell_type": "code",
   "execution_count": 17,
   "metadata": {},
   "outputs": [
    {
     "name": "stdout",
     "output_type": "stream",
     "text": [
      "a is of <class 'int'>\n",
      "b is of <class 'float'>\n",
      "c is of <class 'bool'>\n",
      "d is of <class 'str'>\n",
      "e is of <class 'complex'>\n"
     ]
    }
   ],
   "source": [
    "a=23\n",
    "print(\"a is of\",type(a))\n",
    "b=2.3\n",
    "print(\"b is of\",type(b))\n",
    "c=True\n",
    "print(\"c is of\",type(c))\n",
    "d=\"Ankush\"\n",
    "print(\"d is of\",type(d))\n",
    "e=5+2j\n",
    "print(\"e is of\",type(e))"
   ]
  },
  {
   "cell_type": "markdown",
   "metadata": {},
   "source": [
    "# Question 7:\n",
    "Create a Markdown cell in jupyter and list the steps discussed in the session by Dr. Darshan\n",
    "Ingle sir to create Github profile and upload Githubs Assignment link."
   ]
  },
  {
   "cell_type": "markdown",
   "metadata": {},
   "source": [
    "## Steps to create Github profile\n",
    "> Go to __Github.com__\n",
    ">> Go to Signup and create your Github account using Gmail.\n",
    ">>> Create a new reository by the name __Letsupgrade AI/ML__ and keep it \"Public\".\n",
    ">>>> Upload your assigment file in this repository.\n",
    ">>>>> Copy the link of this Github repository and paste it in the asiignment submission google form.\n",
    "\n"
   ]
  },
  {
   "cell_type": "code",
   "execution_count": null,
   "metadata": {},
   "outputs": [],
   "source": []
  }
 ],
 "metadata": {
  "kernelspec": {
   "display_name": "Python 3",
   "language": "python",
   "name": "python3"
  },
  "language_info": {
   "codemirror_mode": {
    "name": "ipython",
    "version": 3
   },
   "file_extension": ".py",
   "mimetype": "text/x-python",
   "name": "python",
   "nbconvert_exporter": "python",
   "pygments_lexer": "ipython3",
   "version": "3.7.4"
  }
 },
 "nbformat": 4,
 "nbformat_minor": 2
}
