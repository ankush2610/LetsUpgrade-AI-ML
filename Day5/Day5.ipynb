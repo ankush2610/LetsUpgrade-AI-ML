{
 "cells": [
  {
   "cell_type": "markdown",
   "metadata": {},
   "source": [
    "# Question 1 :\n",
    "Write a Python program to find the first 20 non-even prime natural numbers.\n"
   ]
  },
  {
   "cell_type": "code",
   "execution_count": 9,
   "metadata": {},
   "outputs": [
    {
     "name": "stdout",
     "output_type": "stream",
     "text": [
      "3 5 7 11 13 17 19 23 29 31 37 41 43 47 53 59 61 67 71 73 "
     ]
    }
   ],
   "source": [
    "count=0\n",
    "for i in range(3,100):\n",
    "    for j in range(2,i):\n",
    "        if i%j==0:\n",
    "            break\n",
    "    else:\n",
    "        count+=1\n",
    "        print(i, end =\" \")\n",
    "    if count==20:\n",
    "        break"
   ]
  },
  {
   "cell_type": "markdown",
   "metadata": {},
   "source": [
    "# Question 2 :\n",
    "Write a Python program to implement 15 functions of string."
   ]
  },
  {
   "cell_type": "code",
   "execution_count": 42,
   "metadata": {},
   "outputs": [
    {
     "name": "stdout",
     "output_type": "stream",
     "text": [
      "Ankush is learning Data Science and He will be a Data Scientist\n",
      "ANKUSH IS LEARNING DATA SCIENCE\n",
      "ankush is learning data science\n",
      "Ankush is learning data science\n",
      "Ankush Is Learning Data Science\n",
      "aNKUSH IS LEARNING dATA sCIENCE\n",
      "False\n",
      "['Ankush', 'is', 'learning', 'Data', 'Science']\n",
      "3\n",
      "Ankush is leorning Doto Science\n",
      "False\n",
      "False\n",
      "19\n",
      "False\n",
      "True\n"
     ]
    }
   ],
   "source": [
    "str1=\"Ankush is learning Data Science\"\n",
    "str2= \"He will be a Data Scientist\"\n",
    "s=\"     \"\n",
    "concat= str1 + \" and \" + str2\n",
    "print(concat)\n",
    "print(str1.upper())\n",
    "print(str1.lower())\n",
    "print(str1.capitalize())\n",
    "print(str1.title())\n",
    "print(str1.swapcase())\n",
    "print(str1.isalpha())\n",
    "print(str1.split())\n",
    "print(str1.count(\"a\"))\n",
    "print(str1.replace(\"a\",\"o\"))\n",
    "print(str1.isalnum())\n",
    "print(str1.isdecimal())\n",
    "print(str1.index(\"D\"))\n",
    "print(str1.isdigit())\n",
    "print(s.isspace())   "
   ]
  },
  {
   "cell_type": "markdown",
   "metadata": {},
   "source": [
    "# Question 3:\n",
    "Write a Python program to check if the given string is a Palindrome or Anagram or None of them. Display the message accordingly to the user."
   ]
  },
  {
   "cell_type": "code",
   "execution_count": 50,
   "metadata": {},
   "outputs": [
    {
     "name": "stdout",
     "output_type": "stream",
     "text": [
      "Enter 1st string: amaze\n",
      "Enter 2nd string: azema\n",
      "amaze  is a Anagram of azema\n"
     ]
    }
   ],
   "source": [
    "s1=input(\"Enter 1st string: \")\n",
    "s2=input(\"Enter 2nd string: \")\n",
    "check = \"Yes\"\n",
    "pal=s1[::-1]\n",
    "if s1.upper()==pal.upper():\n",
    "    print(s1, \"is a palindrome string\")\n",
    "    check=\"No\"\n",
    "if sorted(s1.lower())== sorted(s2.lower()):\n",
    "    print(s1, \" is a Anagram of\",s2)\n",
    "    check=\"No\"\n",
    "if check==\"Yes\":\n",
    "    print(\"The strings are neither Palindrome nor Anagram\")\n",
    "    "
   ]
  },
  {
   "cell_type": "markdown",
   "metadata": {},
   "source": [
    "# Question 4:\n",
    "Write a Python's user defined function that removes all the additional characters from the string and converts it finally to lower case using built-in lower(). eg: If the string is \"Dr. Darshan Ingle @AI-ML Trainer\", then the output be \"drdarshaningleaimltrainer\"."
   ]
  },
  {
   "cell_type": "code",
   "execution_count": 56,
   "metadata": {},
   "outputs": [
    {
     "name": "stdout",
     "output_type": "stream",
     "text": [
      "Enter a string:Ankush is learning D@t@ S@cience\n",
      "ankushislearningdtscience\n"
     ]
    }
   ],
   "source": [
    "def remove(string):\n",
    "    updated=\"\"\n",
    "    for alphabet in str:\n",
    "        if alphabet.isalpha():\n",
    "            updated+=alphabet\n",
    "            \n",
    "    return (print(updated.lower()))\n",
    "    \n",
    "str=input(\"Enter a string:\")\n",
    "remove(str)"
   ]
  },
  {
   "cell_type": "code",
   "execution_count": null,
   "metadata": {},
   "outputs": [],
   "source": []
  }
 ],
 "metadata": {
  "kernelspec": {
   "display_name": "Python 3",
   "language": "python",
   "name": "python3"
  },
  "language_info": {
   "codemirror_mode": {
    "name": "ipython",
    "version": 3
   },
   "file_extension": ".py",
   "mimetype": "text/x-python",
   "name": "python",
   "nbconvert_exporter": "python",
   "pygments_lexer": "ipython3",
   "version": "3.7.4"
  }
 },
 "nbformat": 4,
 "nbformat_minor": 2
}
