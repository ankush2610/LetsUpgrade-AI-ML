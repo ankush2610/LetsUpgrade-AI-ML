{
  "nbformat": 4,
  "nbformat_minor": 0,
  "metadata": {
    "kernelspec": {
      "display_name": "Python 3",
      "language": "python",
      "name": "python3"
    },
    "language_info": {
      "codemirror_mode": {
        "name": "ipython",
        "version": 3
      },
      "file_extension": ".py",
      "mimetype": "text/x-python",
      "name": "python",
      "nbconvert_exporter": "python",
      "pygments_lexer": "ipython3",
      "version": "3.7.4"
    },
    "colab": {
      "name": "Numpy Assignment Questions 23 july 2020- Lets Upgrade.ipynb",
      "provenance": [],
      "include_colab_link": true
    }
  },
  "cells": [
    {
      "cell_type": "markdown",
      "metadata": {
        "id": "view-in-github",
        "colab_type": "text"
      },
      "source": [
        "<a href=\"https://colab.research.google.com/github/ankush2610/LetsUpgrade-AI-ML/blob/master/day14.ipynb\" target=\"_parent\"><img src=\"https://colab.research.google.com/assets/colab-badge.svg\" alt=\"Open In Colab\"/></a>"
      ]
    },
    {
      "cell_type": "code",
      "metadata": {
        "id": "jMEch1_TQ4Ab",
        "colab_type": "code",
        "colab": {}
      },
      "source": [
        "import numpy as np"
      ],
      "execution_count": 1,
      "outputs": []
    },
    {
      "cell_type": "markdown",
      "metadata": {
        "id": "9Dj7cPfgLpks",
        "colab_type": "text"
      },
      "source": [
        "# 1. Create a 3x3x3 array with random values "
      ]
    },
    {
      "cell_type": "code",
      "metadata": {
        "id": "RyP_DcicLpkv",
        "colab_type": "code",
        "colab": {
          "base_uri": "https://localhost:8080/",
          "height": 204
        },
        "outputId": "ed7cb745-a5ae-4c96-ccbe-a77b8d5e7afe"
      },
      "source": [
        "a=np.random.random((3,3,3))\n",
        "a"
      ],
      "execution_count": 10,
      "outputs": [
        {
          "output_type": "execute_result",
          "data": {
            "text/plain": [
              "array([[[0.23404312, 0.62403464, 0.64583908],\n",
              "        [0.08981964, 0.41276654, 0.88332072],\n",
              "        [0.96564214, 0.0379574 , 0.03465409]],\n",
              "\n",
              "       [[0.00865603, 0.51073973, 0.60283382],\n",
              "        [0.29499908, 0.41009525, 0.90682762],\n",
              "        [0.96031201, 0.06759395, 0.65277639]],\n",
              "\n",
              "       [[0.07806594, 0.37870419, 0.32805552],\n",
              "        [0.60795105, 0.2771721 , 0.31580835],\n",
              "        [0.45166737, 0.35567176, 0.50000828]]])"
            ]
          },
          "metadata": {
            "tags": []
          },
          "execution_count": 10
        }
      ]
    },
    {
      "cell_type": "markdown",
      "metadata": {
        "id": "1FKZKJdFLpk4",
        "colab_type": "text"
      },
      "source": [
        "# 2.Create a 5x5 matrix with values 1,2,3,4 just below the diagonal"
      ]
    },
    {
      "cell_type": "code",
      "metadata": {
        "id": "tOk1V9bYLpk5",
        "colab_type": "code",
        "colab": {
          "base_uri": "https://localhost:8080/",
          "height": 102
        },
        "outputId": "095170c9-2e1d-4c24-9577-9fa8617780aa"
      },
      "source": [
        "b=np.zeros((5,5),dtype=int)\n",
        "for i in range(1,5):\n",
        "  b[i:,i-1]=i\n",
        "\n",
        "\"\"\"\n",
        "ANOTHER METHOD\n",
        "b[1:,0]=1\n",
        "b[2:,1]=2\n",
        "b[3:,2]=3\n",
        "b[4:,3]=4\n",
        "\"\"\"\n",
        "b"
      ],
      "execution_count": 32,
      "outputs": [
        {
          "output_type": "execute_result",
          "data": {
            "text/plain": [
              "array([[0, 0, 0, 0, 0],\n",
              "       [1, 0, 0, 0, 0],\n",
              "       [1, 2, 0, 0, 0],\n",
              "       [1, 2, 3, 0, 0],\n",
              "       [1, 2, 3, 4, 0]])"
            ]
          },
          "metadata": {
            "tags": []
          },
          "execution_count": 32
        }
      ]
    },
    {
      "cell_type": "markdown",
      "metadata": {
        "id": "F_j3c8rsLpk_",
        "colab_type": "text"
      },
      "source": [
        "# 3.Create a 8x8 matrix and fill it with a checkerboard pattern"
      ]
    },
    {
      "cell_type": "code",
      "metadata": {
        "id": "nMz5mv16LplA",
        "colab_type": "code",
        "colab": {
          "base_uri": "https://localhost:8080/",
          "height": 153
        },
        "outputId": "807210e7-2ad6-4d49-9355-8ba933bd7718"
      },
      "source": [
        "import numpy as np\n",
        "\n",
        "x = np.zeros((8,8),dtype=int)\n",
        "x[1::2,::2] = 1\n",
        "x[::2,1::2] = 1\n",
        "print(x)"
      ],
      "execution_count": 21,
      "outputs": [
        {
          "output_type": "stream",
          "text": [
            "[[0 1 0 1 0 1 0 1]\n",
            " [1 0 1 0 1 0 1 0]\n",
            " [0 1 0 1 0 1 0 1]\n",
            " [1 0 1 0 1 0 1 0]\n",
            " [0 1 0 1 0 1 0 1]\n",
            " [1 0 1 0 1 0 1 0]\n",
            " [0 1 0 1 0 1 0 1]\n",
            " [1 0 1 0 1 0 1 0]]\n"
          ],
          "name": "stdout"
        }
      ]
    },
    {
      "cell_type": "markdown",
      "metadata": {
        "id": "otGCwtsILplF",
        "colab_type": "text"
      },
      "source": [
        "# 4. Normalize a 5x5 random matrix"
      ]
    },
    {
      "cell_type": "code",
      "metadata": {
        "id": "jlXzxxlbLplG",
        "colab_type": "code",
        "colab": {
          "base_uri": "https://localhost:8080/",
          "height": 221
        },
        "outputId": "9ecc15cd-5a28-4b70-9aeb-b3bf0bc6e8d2"
      },
      "source": [
        "import numpy as np\n",
        "norm= np.arange(1,101,4).reshape(5,5)\n",
        "\n",
        "print(\"Initial Array:\")\n",
        "print(norm)\n",
        "max, min = norm.max(), norm.min()\n",
        "norm = (norm - min)/(max - min)\n",
        "print(\"After normalization:\")\n",
        "print(norm)"
      ],
      "execution_count": 38,
      "outputs": [
        {
          "output_type": "stream",
          "text": [
            "Initial Array:\n",
            "[[ 1  5  9 13 17]\n",
            " [21 25 29 33 37]\n",
            " [41 45 49 53 57]\n",
            " [61 65 69 73 77]\n",
            " [81 85 89 93 97]]\n",
            "After normalization:\n",
            "[[0.         0.04166667 0.08333333 0.125      0.16666667]\n",
            " [0.20833333 0.25       0.29166667 0.33333333 0.375     ]\n",
            " [0.41666667 0.45833333 0.5        0.54166667 0.58333333]\n",
            " [0.625      0.66666667 0.70833333 0.75       0.79166667]\n",
            " [0.83333333 0.875      0.91666667 0.95833333 1.        ]]\n"
          ],
          "name": "stdout"
        }
      ]
    },
    {
      "cell_type": "markdown",
      "metadata": {
        "id": "mWuUMd9YLplN",
        "colab_type": "text"
      },
      "source": [
        "# 5.  How to find common values between two arrays?"
      ]
    },
    {
      "cell_type": "code",
      "metadata": {
        "id": "XbRRvyaRLplP",
        "colab_type": "code",
        "colab": {
          "base_uri": "https://localhost:8080/",
          "height": 51
        },
        "outputId": "500a6476-a99b-4614-b44d-4b1515b3b83c"
      },
      "source": [
        "array1 = np.array([0, 10, 20, 40, 60])\n",
        "array2 = np.array([10, 30, 40])\n",
        "print(\"Common values are:\")\n",
        "print(np.intersect1d(array1, array2))"
      ],
      "execution_count": 40,
      "outputs": [
        {
          "output_type": "stream",
          "text": [
            "Common values are:\n",
            "[10 40]\n"
          ],
          "name": "stdout"
        }
      ]
    },
    {
      "cell_type": "markdown",
      "metadata": {
        "id": "HBqjzsRdLplV",
        "colab_type": "text"
      },
      "source": [
        "# 6.How to get the dates of yesterday, today and tomorrow?"
      ]
    },
    {
      "cell_type": "code",
      "metadata": {
        "id": "RF1tAgmtLplW",
        "colab_type": "code",
        "colab": {
          "base_uri": "https://localhost:8080/",
          "height": 68
        },
        "outputId": "78e8607f-f54e-4e80-8e9f-26fddf89e82c"
      },
      "source": [
        "import numpy as np\n",
        "yesterday = np.datetime64('today', 'D') - np.timedelta64(1, 'D')\n",
        "print(\"Yestraday: \",yesterday)\n",
        "today     = np.datetime64('today', 'D')\n",
        "print(\"Today: \",today)\n",
        "tomorrow  = np.datetime64('today', 'D') + np.timedelta64(1, 'D')\n",
        "print(\"Tomorrow: \",tomorrow)"
      ],
      "execution_count": 48,
      "outputs": [
        {
          "output_type": "stream",
          "text": [
            "Yestraday:  2020-07-27\n",
            "Today:  2020-07-28\n",
            "Tomorrow:  2020-07-29\n"
          ],
          "name": "stdout"
        }
      ]
    },
    {
      "cell_type": "markdown",
      "metadata": {
        "id": "wk-84fr0Lpld",
        "colab_type": "text"
      },
      "source": [
        "# 7. Consider two random array A and B, check if they are equal"
      ]
    },
    {
      "cell_type": "code",
      "metadata": {
        "id": "dCSJ1LhSLplg",
        "colab_type": "code",
        "colab": {
          "base_uri": "https://localhost:8080/",
          "height": 119
        },
        "outputId": "36ae6b56-9265-4e3f-e39f-9bff085865a5"
      },
      "source": [
        "import numpy as np\n",
        "x = np.random.randint(0,2,6)\n",
        "print(\"First array:\")\n",
        "print(x)\n",
        "y = np.random.randint(0,2,6)\n",
        "print(\"Second array:\")\n",
        "print(y)\n",
        "print(\"Test above two arrays are equal or not!\")\n",
        "array_equal = np.allclose(x, y)\n",
        "print(array_equal)"
      ],
      "execution_count": 52,
      "outputs": [
        {
          "output_type": "stream",
          "text": [
            "First array:\n",
            "[0 1 1 0 1 0]\n",
            "Second array:\n",
            "[0 1 1 0 1 0]\n",
            "Test above two arrays are equal or not!\n",
            "True\n"
          ],
          "name": "stdout"
        }
      ]
    },
    {
      "cell_type": "markdown",
      "metadata": {
        "id": "_ZcL3ZzaLplk",
        "colab_type": "text"
      },
      "source": [
        "# 8.Create random vector of size 10 and replace the maximum value by 0 "
      ]
    },
    {
      "cell_type": "code",
      "metadata": {
        "id": "bX-ct9YALpll",
        "colab_type": "code",
        "colab": {
          "base_uri": "https://localhost:8080/",
          "height": 34
        },
        "outputId": "2dce0906-33e7-4e1e-d235-260f18aefc59"
      },
      "source": [
        "b=np.array([35,44,646,535,35,32,353,535,33,3])\n",
        "b.size\n",
        "mx=b.max()\n",
        "mx\n",
        "f=np.where(b==mx)\n",
        "b[f]=0\n",
        "print(b)\n",
        "\n",
        "#ALTERNATE METHOD\n",
        "\n",
        "#b[b.argmax()]=0\n",
        "#b\n"
      ],
      "execution_count": 87,
      "outputs": [
        {
          "output_type": "stream",
          "text": [
            "[ 35  44   0 535  35  32 353 535  33   3]\n"
          ],
          "name": "stdout"
        }
      ]
    },
    {
      "cell_type": "markdown",
      "metadata": {
        "id": "ReCmo81gLplq",
        "colab_type": "text"
      },
      "source": [
        "# 9. How to print all the values of an array?"
      ]
    },
    {
      "cell_type": "code",
      "metadata": {
        "id": "8lcL8002Lplr",
        "colab_type": "code",
        "colab": {
          "base_uri": "https://localhost:8080/",
          "height": 102
        },
        "outputId": "dc4d8004-b011-43ba-f141-ad82a2a4873b"
      },
      "source": [
        "a=np.random.random((2,2,2))\n",
        "a\n"
      ],
      "execution_count": 93,
      "outputs": [
        {
          "output_type": "execute_result",
          "data": {
            "text/plain": [
              "array([[[0.03104127, 0.72696729],\n",
              "        [0.87998127, 0.66942233]],\n",
              "\n",
              "       [[0.59603549, 0.70744624],\n",
              "        [0.03755782, 0.73574777]]])"
            ]
          },
          "metadata": {
            "tags": []
          },
          "execution_count": 93
        }
      ]
    },
    {
      "cell_type": "markdown",
      "metadata": {
        "id": "gp5ove0VLply",
        "colab_type": "text"
      },
      "source": [
        "# 10.Subtract the mean of each row of a matrix"
      ]
    },
    {
      "cell_type": "code",
      "metadata": {
        "id": "i8kvHBqKLplz",
        "colab_type": "code",
        "colab": {
          "base_uri": "https://localhost:8080/",
          "height": 136
        },
        "outputId": "b3649cf2-ac0e-465a-aac9-3a7f97390284"
      },
      "source": [
        "c = np.array([[[0,1,2], [2,2,3], [2,2,3]], [[3,4,5], [6,5,7], [2,2,3]]])\n",
        "\n",
        "sub = c - c.mean(axis=1, keepdims=True)\n",
        "print(sub)"
      ],
      "execution_count": 94,
      "outputs": [
        {
          "output_type": "stream",
          "text": [
            "[[[-1.33333333 -0.66666667 -0.66666667]\n",
            "  [ 0.66666667  0.33333333  0.33333333]\n",
            "  [ 0.66666667  0.33333333  0.33333333]]\n",
            "\n",
            " [[-0.66666667  0.33333333  0.        ]\n",
            "  [ 2.33333333  1.33333333  2.        ]\n",
            "  [-1.66666667 -1.66666667 -2.        ]]]\n"
          ],
          "name": "stdout"
        }
      ]
    },
    {
      "cell_type": "markdown",
      "metadata": {
        "id": "VNfp17Q-Lpl4",
        "colab_type": "text"
      },
      "source": [
        "# 11.Consider a given vector, how to add 1 to each element indexed by a second vector (be careful with repeated indices)? "
      ]
    },
    {
      "cell_type": "code",
      "metadata": {
        "id": "skNnPTsXLpl5",
        "colab_type": "code",
        "colab": {
          "base_uri": "https://localhost:8080/",
          "height": 136
        },
        "outputId": "cd42bfa8-131f-43ad-bb0f-05b12bcf3dc2"
      },
      "source": [
        "c = np.array([[[0,1,2], [2,2,3], [2,2,3]], [[3,4,5], [6,5,7], [2,2,3]]])\n",
        "b=np.ones((2,3,3))\n",
        "c=c+b\n",
        "c"
      ],
      "execution_count": 100,
      "outputs": [
        {
          "output_type": "execute_result",
          "data": {
            "text/plain": [
              "array([[[1., 2., 3.],\n",
              "        [3., 3., 4.],\n",
              "        [3., 3., 4.]],\n",
              "\n",
              "       [[4., 5., 6.],\n",
              "        [7., 6., 8.],\n",
              "        [3., 3., 4.]]])"
            ]
          },
          "metadata": {
            "tags": []
          },
          "execution_count": 100
        }
      ]
    },
    {
      "cell_type": "markdown",
      "metadata": {
        "id": "WfIGAw_oLpmD",
        "colab_type": "text"
      },
      "source": [
        "# 12.How to get the diagonal of a dot product?"
      ]
    },
    {
      "cell_type": "code",
      "metadata": {
        "id": "4jEyhwM6LpmE",
        "colab_type": "code",
        "colab": {
          "base_uri": "https://localhost:8080/",
          "height": 34
        },
        "outputId": "5f9522b3-7870-45d6-e9ea-40a3470fb0f1"
      },
      "source": [
        "a = np.ones((4, 3))\n",
        "b=np.array([[0,1,2], [2,2,3], [2,2,3]])\n",
        "dot=a.dot(b)\n",
        "np.diag(dot)"
      ],
      "execution_count": 105,
      "outputs": [
        {
          "output_type": "execute_result",
          "data": {
            "text/plain": [
              "array([4., 5., 8.])"
            ]
          },
          "metadata": {
            "tags": []
          },
          "execution_count": 105
        }
      ]
    },
    {
      "cell_type": "markdown",
      "metadata": {
        "id": "8Qqh9stOLpmJ",
        "colab_type": "text"
      },
      "source": [
        "# 13.How to find the most frequent value in an array?"
      ]
    },
    {
      "cell_type": "code",
      "metadata": {
        "id": "FxExoADgLpmK",
        "colab_type": "code",
        "colab": {
          "base_uri": "https://localhost:8080/",
          "height": 68
        },
        "outputId": "2eecbdb1-2e8f-4552-980f-ebe98b9cd7ff"
      },
      "source": [
        "x = np.random.randint(0, 10, 30)\n",
        "print(\"Original array:\")\n",
        "print(x)\n",
        "print(\"Most repeated value in the array:\",np.bincount(x).argmax())\n"
      ],
      "execution_count": 110,
      "outputs": [
        {
          "output_type": "stream",
          "text": [
            "Original array:\n",
            "[0 7 7 5 1 8 8 7 0 8 8 8 6 4 9 8 7 2 1 5 9 5 0 9 0 5 3 9 5 7]\n",
            "Most repeated value in the array: 8\n"
          ],
          "name": "stdout"
        }
      ]
    },
    {
      "cell_type": "markdown",
      "metadata": {
        "id": "6-dfoPYILpmP",
        "colab_type": "text"
      },
      "source": [
        "# 14.How to get the n largest values of an array\n"
      ]
    },
    {
      "cell_type": "code",
      "metadata": {
        "id": "srvIqEkqLpmQ",
        "colab_type": "code",
        "colab": {
          "base_uri": "https://localhost:8080/",
          "height": 34
        },
        "outputId": "8a20f76a-1a41-4877-dff3-ae69e54854c8"
      },
      "source": [
        "x = np.arange(10)\n",
        "\n",
        "\n",
        "np.random.shuffle(x)\n",
        "n = 3\n",
        "print (x[np.argsort(x)[-n:]])"
      ],
      "execution_count": 115,
      "outputs": [
        {
          "output_type": "stream",
          "text": [
            "[7 8 9]\n"
          ],
          "name": "stdout"
        }
      ]
    },
    {
      "cell_type": "markdown",
      "metadata": {
        "id": "m-Upp2TALpmV",
        "colab_type": "text"
      },
      "source": [
        "# 15.How to create a record array from a regular array?"
      ]
    },
    {
      "cell_type": "code",
      "metadata": {
        "id": "EZ4oejQ3LpmV",
        "colab_type": "code",
        "colab": {
          "base_uri": "https://localhost:8080/",
          "height": 51
        },
        "outputId": "72f17b42-b8ea-4235-d791-5f4b6d1b545f"
      },
      "source": [
        "a1=np.array([1,2,3,4])\n",
        "a2=np.array(['Red','Green','White','Orange'])\n",
        "a3=np.array([12.20,15,20,40])\n",
        "recor= np.core.records.fromarrays([a1, a2, a3])\n",
        "print(recor[0])\n",
        "print(recor[3])"
      ],
      "execution_count": 120,
      "outputs": [
        {
          "output_type": "stream",
          "text": [
            "(1, 'Red', 12.2)\n",
            "(4, 'Orange', 40.)\n"
          ],
          "name": "stdout"
        }
      ]
    },
    {
      "cell_type": "code",
      "metadata": {
        "id": "LaZxH5BlLpmX",
        "colab_type": "code",
        "colab": {}
      },
      "source": [
        ""
      ],
      "execution_count": null,
      "outputs": []
    }
  ]
}